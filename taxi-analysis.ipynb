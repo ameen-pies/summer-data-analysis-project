{
 "cells": [
  {
   "cell_type": "markdown",
   "id": "2e8edefd",
   "metadata": {},
   "source": [
    "# -In depth data analysis preoject-\n",
    "---"
   ]
  },
  {
   "cell_type": "markdown",
   "id": "2a453bea",
   "metadata": {},
   "source": [
    "+ reading the taxi trip & zones data and merging them"
   ]
  },
  {
   "cell_type": "code",
   "execution_count": 1,
   "id": "4d8355c4",
   "metadata": {},
   "outputs": [
    {
     "name": "stdout",
     "output_type": "stream",
     "text": [
      "   VendorID tpep_pickup_datetime tpep_dropoff_datetime  passenger_count  \\\n",
      "0         1  2025-01-01 00:18:38   2025-01-01 00:26:59              1.0   \n",
      "1         1  2025-01-01 00:32:40   2025-01-01 00:35:13              1.0   \n",
      "2         1  2025-01-01 00:44:04   2025-01-01 00:46:01              1.0   \n",
      "3         2  2025-01-01 00:14:27   2025-01-01 00:20:01              3.0   \n",
      "4         2  2025-01-01 00:21:34   2025-01-01 00:25:06              3.0   \n",
      "\n",
      "   trip_distance  RatecodeID store_and_fwd_flag PULocationID DOLocationID  \\\n",
      "0           1.60         1.0                  N          229          237   \n",
      "1           0.50         1.0                  N          236          237   \n",
      "2           0.60         1.0                  N          141          141   \n",
      "3           0.52         1.0                  N          244          244   \n",
      "4           0.66         1.0                  N          244          116   \n",
      "\n",
      "   payment_type  ...  total_amount  congestion_surcharge  Airport_fee  \\\n",
      "0             1  ...         18.00                   2.5          0.0   \n",
      "1             1  ...         12.12                   2.5          0.0   \n",
      "2             1  ...         12.10                   2.5          0.0   \n",
      "3             2  ...          9.70                   0.0          0.0   \n",
      "4             2  ...          8.30                   0.0          0.0   \n",
      "\n",
      "   cbd_congestion_fee  PUBorough                         PUZone  \\\n",
      "0                 0.0  Manhattan  Sutton Place/Turtle Bay North   \n",
      "1                 0.0  Manhattan          Upper East Side North   \n",
      "2                 0.0  Manhattan                Lenox Hill West   \n",
      "3                 0.0  Manhattan       Washington Heights South   \n",
      "4                 0.0  Manhattan       Washington Heights South   \n",
      "\n",
      "   PUservice_zone  DOBorough                    DOZone  DOservice_zone  \n",
      "0     yellow zone  Manhattan     Upper East Side South     yellow zone  \n",
      "1     yellow zone  Manhattan     Upper East Side South     yellow zone  \n",
      "2     yellow zone  Manhattan           Lenox Hill West     yellow zone  \n",
      "3    borough zone  Manhattan  Washington Heights South    borough zone  \n",
      "4    borough zone  Manhattan          Hamilton Heights    borough zone  \n",
      "\n",
      "[5 rows x 26 columns]\n",
      "<class 'pandas.core.frame.DataFrame'>\n",
      "RangeIndex: 3475226 entries, 0 to 3475225\n",
      "Data columns (total 26 columns):\n",
      " #   Column                 Dtype         \n",
      "---  ------                 -----         \n",
      " 0   VendorID               int32         \n",
      " 1   tpep_pickup_datetime   datetime64[us]\n",
      " 2   tpep_dropoff_datetime  datetime64[us]\n",
      " 3   passenger_count        float64       \n",
      " 4   trip_distance          float64       \n",
      " 5   RatecodeID             float64       \n",
      " 6   store_and_fwd_flag     object        \n",
      " 7   PULocationID           object        \n",
      " 8   DOLocationID           object        \n",
      " 9   payment_type           int64         \n",
      " 10  fare_amount            float64       \n",
      " 11  extra                  float64       \n",
      " 12  mta_tax                float64       \n",
      " 13  tip_amount             float64       \n",
      " 14  tolls_amount           float64       \n",
      " 15  improvement_surcharge  float64       \n",
      " 16  total_amount           float64       \n",
      " 17  congestion_surcharge   float64       \n",
      " 18  Airport_fee            float64       \n",
      " 19  cbd_congestion_fee     float64       \n",
      " 20  PUBorough              object        \n",
      " 21  PUZone                 object        \n",
      " 22  PUservice_zone         object        \n",
      " 23  DOBorough              object        \n",
      " 24  DOZone                 object        \n",
      " 25  DOservice_zone         object        \n",
      "dtypes: datetime64[us](2), float64(13), int32(1), int64(1), object(9)\n",
      "memory usage: 676.1+ MB\n",
      "None\n",
      "VendorID                      0\n",
      "tpep_pickup_datetime          0\n",
      "tpep_dropoff_datetime         0\n",
      "passenger_count          540149\n",
      "trip_distance                 0\n",
      "RatecodeID               540149\n",
      "store_and_fwd_flag       540149\n",
      "PULocationID                  0\n",
      "DOLocationID                  0\n",
      "payment_type                  0\n",
      "fare_amount                   0\n",
      "extra                         0\n",
      "mta_tax                       0\n",
      "tip_amount                    0\n",
      "tolls_amount                  0\n",
      "improvement_surcharge         0\n",
      "total_amount                  0\n",
      "congestion_surcharge     540149\n",
      "Airport_fee              540149\n",
      "cbd_congestion_fee            0\n",
      "PUBorough                  1380\n",
      "PUZone                     8141\n",
      "PUservice_zone             9521\n",
      "DOBorough                 12086\n",
      "DOZone                    11976\n",
      "DOservice_zone            24062\n",
      "dtype: int64\n"
     ]
    }
   ],
   "source": [
    "import pandas as pd\n",
    "\n",
    "# Load zone lookup data\n",
    "df_zones = pd.read_csv('taxi_zone_lookup.csv')\n",
    "df_zones.columns = df_zones.columns.str.strip()\n",
    "df_zones['LocationID'] = df_zones['LocationID'].astype(str)\n",
    "df_zones['Borough'] = df_zones['Borough'].str.strip()\n",
    "df_zones['Zone'] = df_zones['Zone'].str.strip()\n",
    "df_zones['service_zone'] = df_zones['service_zone'].str.strip().str.lower()\n",
    "df_zones['service_zone'] = df_zones['service_zone'].replace({'boro zone': 'borough zone'})\n",
    "\n",
    "# Load trip data\n",
    "df_trips = pd.read_parquet('yellow_tripdata_2025-01.parquet')\n",
    "df_trips.columns = df_trips.columns.str.strip()\n",
    "\n",
    "# Convert location IDs to string in trip data to match zone data\n",
    "df_trips['PULocationID'] = df_trips['PULocationID'].astype(str)\n",
    "df_trips['DOLocationID'] = df_trips['DOLocationID'].astype(str)\n",
    "\n",
    "# Merge pickup location info\n",
    "df_merged = pd.merge(df_trips, df_zones, \n",
    "                    left_on='PULocationID', \n",
    "                    right_on='LocationID',\n",
    "                    how='left')\n",
    "\n",
    "# Rename the zone columns for pickup location\n",
    "df_merged = df_merged.rename(columns={\n",
    "    'Borough': 'PUBorough',\n",
    "    'Zone': 'PUZone',\n",
    "    'service_zone': 'PUservice_zone'\n",
    "})\n",
    "\n",
    "# Merge dropoff location info\n",
    "df_merged = pd.merge(df_merged, df_zones, \n",
    "                    left_on='DOLocationID', \n",
    "                    right_on='LocationID',\n",
    "                    how='left')\n",
    "\n",
    "# Rename the zone columns for dropoff location\n",
    "df_merged = df_merged.rename(columns={\n",
    "    'Borough': 'DOBorough',\n",
    "    'Zone': 'DOZone',\n",
    "    'service_zone': 'DOservice_zone'\n",
    "})\n",
    "\n",
    "# Drop the extra LocationID columns from the merges\n",
    "df_merged = df_merged.drop(columns=['LocationID_x', 'LocationID_y'])\n",
    "\n",
    "# Display results\n",
    "print(df_merged.head())\n",
    "print(df_merged.info())\n",
    "print(df_merged.isnull().sum())"
   ]
  },
  {
   "cell_type": "markdown",
   "id": "f4b314d1",
   "metadata": {},
   "source": [
    "-> as we can notice here there exist a bunch of missing values that needs to be treated!\n",
    "\n",
    "+ cleaning data"
   ]
  },
  {
   "cell_type": "code",
   "execution_count": 2,
   "id": "6fa0529e",
   "metadata": {},
   "outputs": [
    {
     "name": "stdout",
     "output_type": "stream",
     "text": [
      "Missing values before cleaning:\n",
      "PUBorough     9521\n",
      "DOBorough    24062\n",
      "dtype: int64\n",
      "Trips with identical pickup/dropoff: 138072\n",
      "\n",
      "Cleaned data summary:\n",
      "Total rows: 3307371\n",
      "Missing values after cleaning:\n",
      "PUBorough    0\n",
      "DOBorough    0\n",
      "dtype: int64\n",
      "Data successfully cleaned\n"
     ]
    }
   ],
   "source": [
    "# 1. First replace 'Unknown' with NaN so they can be properly imputed\n",
    "df_merged.replace('Unknown', pd.NA, inplace=True)\n",
    "\n",
    "# 2. Handle missing zone information by filling with mode (most frequent value)\n",
    "print(\"Missing values before cleaning:\")\n",
    "print(df_merged[['PUBorough', 'DOBorough']].isnull().sum())\n",
    "\n",
    "# Calculate modes for each column (excluding current NaN values)\n",
    "puborough_mode = df_merged['PUBorough'].mode()[0]\n",
    "puzone_mode = df_merged['PUZone'].mode()[0]\n",
    "dorough_mode = df_merged['DOBorough'].mode()[0]\n",
    "dozone_mode = df_merged['DOZone'].mode()[0]\n",
    "\n",
    "# Fill missing values with mode\n",
    "df_merged['PUBorough'] = df_merged['PUBorough'].fillna(puborough_mode)\n",
    "df_merged['PUZone'] = df_merged['PUZone'].fillna(puzone_mode)\n",
    "df_merged['DOBorough'] = df_merged['DOBorough'].fillna(dorough_mode)\n",
    "df_merged['DOZone'] = df_merged['DOZone'].fillna(dozone_mode)\n",
    "\n",
    "# 3. Clean numeric columns\n",
    "# Convert passenger_count to integer and fill missing with mode\n",
    "passenger_mode = int(df_merged['passenger_count'].mode()[0])\n",
    "df_merged['passenger_count'] = df_merged['passenger_count'].fillna(passenger_mode).astype(int)\n",
    "\n",
    "# Handle trip_distance outliers\n",
    "df_merged = df_merged[(df_merged['trip_distance'] > 0.05) & \n",
    "                     (df_merged['trip_distance'] < 50)]\n",
    "\n",
    "# 4. Clean datetime columns\n",
    "df_merged['tpep_pickup_datetime'] = pd.to_datetime(df_merged['tpep_pickup_datetime'])\n",
    "df_merged['tpep_dropoff_datetime'] = pd.to_datetime(df_merged['tpep_dropoff_datetime'])\n",
    "\n",
    "# Remove invalid time sequences\n",
    "df_merged = df_merged[df_merged['tpep_pickup_datetime'] < df_merged['tpep_dropoff_datetime']]\n",
    "\n",
    "# 5. Handle payment and fare anomalies\n",
    "payment_mode = df_merged['payment_type'].mode()[0]\n",
    "df_merged['payment_type'] = df_merged['payment_type'].fillna(payment_mode).astype('category')\n",
    "\n",
    "# Remove negative fares\n",
    "df_merged = df_merged[df_merged['total_amount'] > 0]\n",
    "\n",
    "# 6. Handle same pickup/dropoff locations\n",
    "same_loc_trips = df_merged[df_merged['PULocationID'] == df_merged['DOLocationID']]\n",
    "print(f\"Trips with identical pickup/dropoff: {len(same_loc_trips)}\")\n",
    "\n",
    "# 7. Final validation\n",
    "print(\"\\nCleaned data summary:\")\n",
    "print(f\"Total rows: {len(df_merged)}\")\n",
    "print(\"Missing values after cleaning:\")\n",
    "print(df_merged[['PUBorough', 'DOBorough']].isnull().sum())\n",
    "\n",
    "# 8. Save to CSV with additional optimizations\n",
    "# Convert categorical to string for cleaner CSV output\n",
    "df_merged['payment_type'] = df_merged['payment_type'].astype(str)\n",
    "\n",
    "\n",
    "print(\"Data successfully cleaned\")"
   ]
  },
  {
   "cell_type": "markdown",
   "id": "8d7fb13b",
   "metadata": {},
   "source": [
    "- after successfuly cleaning the data and saving it, lets start doing some insightful visualization and analysis!"
   ]
  },
  {
   "cell_type": "markdown",
   "id": "422390d6",
   "metadata": {},
   "source": [
    "- first lets take a look at our new columns."
   ]
  },
  {
   "cell_type": "code",
   "execution_count": 3,
   "id": "e0b1dbb0",
   "metadata": {},
   "outputs": [
    {
     "data": {
      "text/plain": [
       "Index(['VendorID', 'tpep_pickup_datetime', 'tpep_dropoff_datetime',\n",
       "       'passenger_count', 'trip_distance', 'RatecodeID', 'store_and_fwd_flag',\n",
       "       'PULocationID', 'DOLocationID', 'payment_type', 'fare_amount', 'extra',\n",
       "       'mta_tax', 'tip_amount', 'tolls_amount', 'improvement_surcharge',\n",
       "       'total_amount', 'congestion_surcharge', 'Airport_fee',\n",
       "       'cbd_congestion_fee', 'PUBorough', 'PUZone', 'PUservice_zone',\n",
       "       'DOBorough', 'DOZone', 'DOservice_zone'],\n",
       "      dtype='object')"
      ]
     },
     "execution_count": 3,
     "metadata": {},
     "output_type": "execute_result"
    }
   ],
   "source": [
    "df_merged.columns  # Display the columns of the cleaned data\n"
   ]
  },
  {
   "cell_type": "markdown",
   "id": "3560e5c3",
   "metadata": {},
   "source": [
    "+ we interest this time by the number of taxi trips each day."
   ]
  },
  {
   "cell_type": "code",
   "execution_count": 6,
   "id": "8c2ac682",
   "metadata": {},
   "outputs": [
    {
     "data": {
      "image/png": "[encoded data removed]",
      "text/plain": [
       "<Figure size 1400x600 with 1 Axes>"
      ]
     },
     "metadata": {},
     "output_type": "display_data"
    }
   ],
   "source": [
    "# Extract pickup hour and day from the pickup datetime\n",
    "df_merged['pickup_hour'] = df_merged['tpep_pickup_datetime'].dt.hour\n",
    "df_merged['pickup_day'] = df_merged['tpep_pickup_datetime'].dt.day_name()\n",
    "\n",
    "# Plot trips by pickup hour and pickup day using matplotlib\n",
    "hour_day_counts = df_merged.groupby(['pickup_hour', 'pickup_day']).size().unstack(fill_value=0)\n",
    "hour_day_counts.plot(kind='bar', stacked=False, figsize=(14, 6))\n",
    "plt.xlabel('Pickup Hour')\n",
    "plt.ylabel('Number of Trips')\n",
    "plt.title('Number of Taxi Trips by Hour and Day')\n",
    "plt.legend(title='Pickup Day')\n",
    "plt.tight_layout()\n",
    "plt.show()"
   ]
  },
  {
   "cell_type": "markdown",
   "id": "e5b6a487",
   "metadata": {},
   "source": [
    "Observation: The number of taxi trips peaks around 18:00 (6 PM) on all days of the week.\n",
    "Interpretation: This suggests that evening rush hour is the busiest time for taxi usage, likely due to people commuting home from work.\n",
    "\n",
    "Observation: The lowest number of trips occurs between 3:00 AM and 5:00 AM across all days.\n",
    "Interpretation: This indicates that late night and early morning hours have the least demand for taxis, possibly due to most people being at home.\n",
    "\n",
    "Observation: Weekends (Saturday and Sunday) show higher trip counts during late night and early morning hours compared to weekdays.\n",
    "Interpretation: This may be due to nightlife and social activities extending into the early hours on weekends.\n",
    "\n",
    "Observation: The overall pattern of trip counts by hour is similar across all days, but Friday and Saturday have slightly higher peaks in the evening.\n",
    "Interpretation: Increased social and leisure activities on these days likely contribute to higher taxi demand."
   ]
  }
 ],
 "metadata": {
  "kernelspec": {
   "display_name": "Python 3",
   "language": "python",
   "name": "python3"
  },
  "language_info": {
   "codemirror_mode": {
    "name": "ipython",
    "version": 3
   },
   "file_extension": ".py",
   "mimetype": "text/x-python",
   "name": "python",
   "nbconvert_exporter": "python",
   "pygments_lexer": "ipython3",
   "version": "3.10.7"
  }
 },
 "nbformat": 4,
 "nbformat_minor": 5
}
