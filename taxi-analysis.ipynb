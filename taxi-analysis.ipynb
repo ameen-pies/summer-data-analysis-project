{
 "cells": [
  {
   "cell_type": "markdown",
   "id": "2e8edefd",
   "metadata": {},
   "source": [
    "# This is a project, deal with it\n",
    "---"
   ]
  },
  {
   "cell_type": "code",
   "execution_count": null,
   "id": "4d8355c4",
   "metadata": {},
   "outputs": [
    {
     "name": "stdout",
     "output_type": "stream",
     "text": [
      "   LocationID        Borough                     Zone service_zone\n",
      "0           1            EWR           Newark Airport          EWR\n",
      "1           2         Queens              Jamaica Bay    Boro Zone\n",
      "2           3          Bronx  Allerton/Pelham Gardens    Boro Zone\n",
      "3           4      Manhattan            Alphabet City  Yellow Zone\n",
      "4           5  Staten Island            Arden Heights    Boro Zone\n",
      "<class 'pandas.core.frame.DataFrame'>\n",
      "RangeIndex: 265 entries, 0 to 264\n",
      "Data columns (total 4 columns):\n",
      " #   Column        Non-Null Count  Dtype \n",
      "---  ------        --------------  ----- \n",
      " 0   LocationID    265 non-null    int64 \n",
      " 1   Borough       264 non-null    object\n",
      " 2   Zone          264 non-null    object\n",
      " 3   service_zone  263 non-null    object\n",
      "dtypes: int64(1), object(3)\n",
      "memory usage: 8.4+ KB\n",
      "None\n",
      "LocationID      0\n",
      "Borough         1\n",
      "Zone            1\n",
      "service_zone    2\n",
      "dtype: int64\n"
     ]
    }
   ],
   "source": [
    "import pandas as pd\n",
    "df = pd.read_csv('taxi_zone_lookup.csv')\n",
    "df.columns = df.columns.str.strip()  # Remove leading/trailing whitespace from column names\n",
    "df['LocationID'] = df['LocationID'].astype(str)  # Convert LocationID to string type\n",
    "df['Borough'] = df['Borough'].str.strip()  # Remove leading/trailing whitespace from 'Borough' column\n",
    "df['Zone'] = df['Zone'].str.strip()  # Remove leading/trailing whitespace from 'Zone' column\n",
    "df['service_zone'] = df['service_zone'].str.strip()  # Remove leading/trailing whitespace from 'service_zone' column\n",
    "df['service_zone'] = df['service_zone'].str.lower()  # Convert 'service_zone' to lowercase\n",
    "df['service_zone'] = df['service_zone'].replace({'boro zone': 'borough zone'})  # Replace 'boro zone' with 'borough zone'\n",
    "\n",
    "\n",
    "\n",
    "df_trips = pd.read_parquet('path/to/yellow_tripdata_2024-01.parquet')\n",
    "print(df_trips.head())\n",
    "# Display the first few rows, info, and null counts of the DataFrame\n",
    "print(df.head())\n",
    "print(df.info())\n",
    "print(df.isnull().sum())"
   ]
  },
  {
   "cell_type": "code",
   "execution_count": null,
   "id": "6fa0529e",
   "metadata": {},
   "outputs": [],
   "source": []
  }
 ],
 "metadata": {
  "kernelspec": {
   "display_name": "Python 3",
   "language": "python",
   "name": "python3"
  },
  "language_info": {
   "codemirror_mode": {
    "name": "ipython",
    "version": 3
   },
   "file_extension": ".py",
   "mimetype": "text/x-python",
   "name": "python",
   "nbconvert_exporter": "python",
   "pygments_lexer": "ipython3",
   "version": "3.10.7"
  }
 },
 "nbformat": 4,
 "nbformat_minor": 5
}
